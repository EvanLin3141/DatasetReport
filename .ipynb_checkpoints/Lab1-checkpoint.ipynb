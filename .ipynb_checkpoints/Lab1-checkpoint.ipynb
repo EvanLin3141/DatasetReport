{
 "cells": [
  {
   "cell_type": "markdown",
   "id": "117d483e-b95a-402e-80f0-9c0b73b7f0d2",
   "metadata": {
    "jp-MarkdownHeadingCollapsed": true
   },
   "source": [
    "2+3"
   ]
  },
  {
   "cell_type": "code",
   "execution_count": 3,
   "id": "ca0647ad-9ca9-4b97-9f99-8934da87737c",
   "metadata": {},
   "outputs": [
    {
     "name": "stdout",
     "output_type": "stream",
     "text": [
      "5\n"
     ]
    }
   ],
   "source": [
    "x = 3\n",
    "print(x+2)"
   ]
  },
  {
   "cell_type": "code",
   "execution_count": 4,
   "id": "5f3cc2d8-5942-49ce-93d6-531e8c0f2904",
   "metadata": {},
   "outputs": [
    {
     "name": "stdout",
     "output_type": "stream",
     "text": [
      "3\n"
     ]
    }
   ],
   "source": [
    "print(x)"
   ]
  },
  {
   "cell_type": "markdown",
   "id": "afd31129-70d0-4a9e-9db4-77c7e57b2b7a",
   "metadata": {},
   "source": [
    "This is a markdown cell. *Italics* **Bold**"
   ]
  },
  {
   "cell_type": "markdown",
   "id": "64e453ca-6828-4692-9fbd-bed65f9e1e03",
   "metadata": {},
   "source": [
    "<h1>Main heading w/ HTML</h1>"
   ]
  },
  {
   "cell_type": "markdown",
   "id": "362784b6-6747-4d01-ab8e-30bc6433d245",
   "metadata": {},
   "source": [
    "<p> For assessment doing code and text is equally as important</p>"
   ]
  }
 ],
 "metadata": {
  "kernelspec": {
   "display_name": "Python 3.11 (ipykernel)",
   "language": "python",
   "name": "python3"
  },
  "language_info": {
   "codemirror_mode": {
    "name": "ipython",
    "version": 3
   },
   "file_extension": ".py",
   "mimetype": "text/x-python",
   "name": "python",
   "nbconvert_exporter": "python",
   "pygments_lexer": "ipython3",
   "version": "3.11.4"
  }
 },
 "nbformat": 4,
 "nbformat_minor": 5
}
