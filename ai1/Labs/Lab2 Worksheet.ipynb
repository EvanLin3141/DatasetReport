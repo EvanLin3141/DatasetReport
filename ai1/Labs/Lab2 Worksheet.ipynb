{
 "cells": [
  {
   "cell_type": "code",
   "execution_count": 1,
   "id": "7a681dbb-49e8-4dce-9157-bf3e72db7857",
   "metadata": {},
   "outputs": [],
   "source": [
    "import pandas as pd\n",
    "import numpy as np\n",
    "import matplotlib.pyplot as plt\n",
    "from sklearn.preprocessing import StandardScaler\n",
    "from numpy.random import rand\n",
    "from sklearn.metrics.pairwise import euclidean_distances"
   ]
  },
  {
   "cell_type": "code",
   "execution_count": 3,
   "id": "5826d264-af31-4297-bf71-8e737f721a74",
   "metadata": {},
   "outputs": [],
   "source": [
    "df = pd.read_csv(\"../datasets/dataset_stop_and_searchB.csv\")"
   ]
  },
  {
   "cell_type": "code",
   "execution_count": 6,
   "id": "e9bfd1ff-dda5-42bd-816f-e9e2feb924bc",
   "metadata": {},
   "outputs": [
    {
     "data": {
      "text/plain": [
       "(169418, 6)"
      ]
     },
     "execution_count": 6,
     "metadata": {},
     "output_type": "execute_result"
    }
   ],
   "source": [
    "df.shape"
   ]
  },
  {
   "cell_type": "code",
   "execution_count": null,
   "id": "d469947b-615a-45b3-bda3-a6e4df7c5896",
   "metadata": {},
   "outputs": [],
   "source": [
    "Are the Thames Valley Police Racist"
   ]
  },
  {
   "cell_type": "code",
   "execution_count": 7,
   "id": "cfde424b-427a-441d-93e6-e52a649f5583",
   "metadata": {},
   "outputs": [
    {
     "data": {
      "text/html": [
       "<div>\n",
       "<style scoped>\n",
       "    .dataframe tbody tr th:only-of-type {\n",
       "        vertical-align: middle;\n",
       "    }\n",
       "\n",
       "    .dataframe tbody tr th {\n",
       "        vertical-align: top;\n",
       "    }\n",
       "\n",
       "    .dataframe thead th {\n",
       "        text-align: right;\n",
       "    }\n",
       "</style>\n",
       "<table border=\"1\" class=\"dataframe\">\n",
       "  <thead>\n",
       "    <tr style=\"text-align: right;\">\n",
       "      <th></th>\n",
       "      <th>Gender</th>\n",
       "      <th>Age</th>\n",
       "      <th>Suspect-ethnicity</th>\n",
       "      <th>Officer-ethnicity</th>\n",
       "      <th>Object-of-search</th>\n",
       "      <th>Outcome</th>\n",
       "    </tr>\n",
       "  </thead>\n",
       "  <tbody>\n",
       "    <tr>\n",
       "      <th>count</th>\n",
       "      <td>167387</td>\n",
       "      <td>154371</td>\n",
       "      <td>167433</td>\n",
       "      <td>166370</td>\n",
       "      <td>168890</td>\n",
       "      <td>169418</td>\n",
       "    </tr>\n",
       "    <tr>\n",
       "      <th>unique</th>\n",
       "      <td>3</td>\n",
       "      <td>5</td>\n",
       "      <td>17</td>\n",
       "      <td>4</td>\n",
       "      <td>8</td>\n",
       "      <td>7</td>\n",
       "    </tr>\n",
       "    <tr>\n",
       "      <th>top</th>\n",
       "      <td>Male</td>\n",
       "      <td>18-24</td>\n",
       "      <td>White - English/Welsh/Scottish/Northern Irish/...</td>\n",
       "      <td>Black</td>\n",
       "      <td>Controlled drugs</td>\n",
       "      <td>A no further action disposal</td>\n",
       "    </tr>\n",
       "    <tr>\n",
       "      <th>freq</th>\n",
       "      <td>156580</td>\n",
       "      <td>60252</td>\n",
       "      <td>30536</td>\n",
       "      <td>69333</td>\n",
       "      <td>95770</td>\n",
       "      <td>125814</td>\n",
       "    </tr>\n",
       "  </tbody>\n",
       "</table>\n",
       "</div>"
      ],
      "text/plain": [
       "        Gender     Age                                  Suspect-ethnicity  \\\n",
       "count   167387  154371                                             167433   \n",
       "unique       3       5                                                 17   \n",
       "top       Male   18-24  White - English/Welsh/Scottish/Northern Irish/...   \n",
       "freq    156580   60252                                              30536   \n",
       "\n",
       "       Officer-ethnicity  Object-of-search                       Outcome  \n",
       "count             166370            168890                        169418  \n",
       "unique                 4                 8                             7  \n",
       "top                Black  Controlled drugs  A no further action disposal  \n",
       "freq               69333             95770                        125814  "
      ]
     },
     "execution_count": 7,
     "metadata": {},
     "output_type": "execute_result"
    }
   ],
   "source": [
    "df.describe(include=\"all\")"
   ]
  },
  {
   "cell_type": "code",
   "execution_count": 18,
   "id": "4ff7afcb-1370-431d-ae9a-21802a24f381",
   "metadata": {},
   "outputs": [
    {
     "data": {
      "text/plain": [
       "Suspect-ethnicity                                                                     Officer-ethnicity\n",
       "White - English/Welsh/Scottish/Northern Irish/British                                 White                29764\n",
       "Black/African/Caribbean/Black British - Any other Black/African/Caribbean background  Black                21675\n",
       "White - Any other White background                                                    White                19168\n",
       "Black/African/Caribbean/Black British - African                                       Black                16286\n",
       "Other ethnic group - Not stated                                                       Black                14595\n",
       "                                                                                                           ...  \n",
       "Asian/Asian British - Chinese                                                         White                   13\n",
       "Black/African/Caribbean/Black British - Caribbean                                     Other                    9\n",
       "Asian/Asian British - Chinese                                                         Other                    5\n",
       "White - Irish                                                                         Asian                    2\n",
       "                                                                                      Other                    1\n",
       "Name: count, Length: 68, dtype: int64"
      ]
     },
     "execution_count": 18,
     "metadata": {},
     "output_type": "execute_result"
    }
   ],
   "source": [
    "df[[\"Suspect-ethnicity\", \"Officer-ethnicity\"]].value_counts()"
   ]
  },
  {
   "cell_type": "code",
   "execution_count": 11,
   "id": "5d09b119-778e-45fe-a999-e2d0a8ecf96d",
   "metadata": {},
   "outputs": [
    {
     "data": {
      "text/plain": [
       "Suspect-ethnicity\n",
       "White - English/Welsh/Scottish/Northern Irish/British                                   30536\n",
       "Other ethnic group - Not stated                                                         29142\n",
       "Black/African/Caribbean/Black British - Any other Black/African/Caribbean background    22094\n",
       "White - Any other White background                                                      19948\n",
       "Black/African/Caribbean/Black British - African                                         16730\n",
       "Black/African/Caribbean/Black British - Caribbean                                       11876\n",
       "Asian/Asian British - Any other Asian background                                        11082\n",
       "Asian/Asian British - Bangladeshi                                                        7734\n",
       "Other ethnic group - Any other ethnic group                                              4503\n",
       "Mixed/Multiple ethnic groups - Any other Mixed/Multiple ethnic background                3105\n",
       "Asian/Asian British - Pakistani                                                          3075\n",
       "Asian/Asian British - Indian                                                             2704\n",
       "Mixed/Multiple ethnic groups - White and Black Caribbean                                 2008\n",
       "White - Irish                                                                            1555\n",
       "Mixed/Multiple ethnic groups - White and Black African                                    653\n",
       "Mixed/Multiple ethnic groups - White and Asian                                            412\n",
       "Asian/Asian British - Chinese                                                             276\n",
       "Name: count, dtype: int64"
      ]
     },
     "execution_count": 11,
     "metadata": {},
     "output_type": "execute_result"
    }
   ],
   "source": [
    "# Distinguish the numbers per group\n",
    "df[\"Suspect-ethnicity\"].value_counts()"
   ]
  },
  {
   "cell_type": "code",
   "execution_count": 40,
   "id": "1eac4630-32c6-4f1e-8fa8-31d8b088961f",
   "metadata": {},
   "outputs": [
    {
     "data": {
      "text/html": [
       "<div>\n",
       "<style scoped>\n",
       "    .dataframe tbody tr th:only-of-type {\n",
       "        vertical-align: middle;\n",
       "    }\n",
       "\n",
       "    .dataframe tbody tr th {\n",
       "        vertical-align: top;\n",
       "    }\n",
       "\n",
       "    .dataframe thead th {\n",
       "        text-align: right;\n",
       "    }\n",
       "</style>\n",
       "<table border=\"1\" class=\"dataframe\">\n",
       "  <thead>\n",
       "    <tr style=\"text-align: right;\">\n",
       "      <th></th>\n",
       "      <th>Gender</th>\n",
       "      <th>Age</th>\n",
       "      <th>Suspect-ethnicity</th>\n",
       "      <th>Officer-ethnicity</th>\n",
       "      <th>Object-of-search</th>\n",
       "      <th>Outcome</th>\n",
       "    </tr>\n",
       "  </thead>\n",
       "  <tbody>\n",
       "    <tr>\n",
       "      <th>22</th>\n",
       "      <td>Female</td>\n",
       "      <td>18-24</td>\n",
       "      <td>White - English/Welsh/Scottish/Northern Irish/...</td>\n",
       "      <td>Black</td>\n",
       "      <td>Controlled drugs</td>\n",
       "      <td>Community resolution</td>\n",
       "    </tr>\n",
       "    <tr>\n",
       "      <th>24</th>\n",
       "      <td>Male</td>\n",
       "      <td>25-34</td>\n",
       "      <td>White - English/Welsh/Scottish/Northern Irish/...</td>\n",
       "      <td>White</td>\n",
       "      <td>Evidence of offences under the Act</td>\n",
       "      <td>Arrest</td>\n",
       "    </tr>\n",
       "    <tr>\n",
       "      <th>33</th>\n",
       "      <td>Male</td>\n",
       "      <td>18-24</td>\n",
       "      <td>White - English/Welsh/Scottish/Northern Irish/...</td>\n",
       "      <td>White</td>\n",
       "      <td>Stolen goods</td>\n",
       "      <td>A no further action disposal</td>\n",
       "    </tr>\n",
       "    <tr>\n",
       "      <th>36</th>\n",
       "      <td>Male</td>\n",
       "      <td>NaN</td>\n",
       "      <td>White - English/Welsh/Scottish/Northern Irish/...</td>\n",
       "      <td>White</td>\n",
       "      <td>Controlled drugs</td>\n",
       "      <td>A no further action disposal</td>\n",
       "    </tr>\n",
       "    <tr>\n",
       "      <th>40</th>\n",
       "      <td>Male</td>\n",
       "      <td>18-24</td>\n",
       "      <td>White - English/Welsh/Scottish/Northern Irish/...</td>\n",
       "      <td>White</td>\n",
       "      <td>Controlled drugs</td>\n",
       "      <td>A no further action disposal</td>\n",
       "    </tr>\n",
       "    <tr>\n",
       "      <th>...</th>\n",
       "      <td>...</td>\n",
       "      <td>...</td>\n",
       "      <td>...</td>\n",
       "      <td>...</td>\n",
       "      <td>...</td>\n",
       "      <td>...</td>\n",
       "    </tr>\n",
       "    <tr>\n",
       "      <th>169384</th>\n",
       "      <td>Male</td>\n",
       "      <td>25-34</td>\n",
       "      <td>White - English/Welsh/Scottish/Northern Irish/...</td>\n",
       "      <td>White</td>\n",
       "      <td>Controlled drugs</td>\n",
       "      <td>A no further action disposal</td>\n",
       "    </tr>\n",
       "    <tr>\n",
       "      <th>169387</th>\n",
       "      <td>Male</td>\n",
       "      <td>18-24</td>\n",
       "      <td>White - English/Welsh/Scottish/Northern Irish/...</td>\n",
       "      <td>White</td>\n",
       "      <td>Controlled drugs</td>\n",
       "      <td>A no further action disposal</td>\n",
       "    </tr>\n",
       "    <tr>\n",
       "      <th>169388</th>\n",
       "      <td>Female</td>\n",
       "      <td>over 34</td>\n",
       "      <td>White - English/Welsh/Scottish/Northern Irish/...</td>\n",
       "      <td>White</td>\n",
       "      <td>Stolen goods</td>\n",
       "      <td>A no further action disposal</td>\n",
       "    </tr>\n",
       "    <tr>\n",
       "      <th>169390</th>\n",
       "      <td>Male</td>\n",
       "      <td>over 34</td>\n",
       "      <td>White - English/Welsh/Scottish/Northern Irish/...</td>\n",
       "      <td>White</td>\n",
       "      <td>Stolen goods</td>\n",
       "      <td>A no further action disposal</td>\n",
       "    </tr>\n",
       "    <tr>\n",
       "      <th>169403</th>\n",
       "      <td>Male</td>\n",
       "      <td>18-24</td>\n",
       "      <td>White - English/Welsh/Scottish/Northern Irish/...</td>\n",
       "      <td>White</td>\n",
       "      <td>Controlled drugs</td>\n",
       "      <td>A no further action disposal</td>\n",
       "    </tr>\n",
       "  </tbody>\n",
       "</table>\n",
       "<p>30536 rows × 6 columns</p>\n",
       "</div>"
      ],
      "text/plain": [
       "        Gender      Age                                  Suspect-ethnicity  \\\n",
       "22      Female    18-24  White - English/Welsh/Scottish/Northern Irish/...   \n",
       "24        Male    25-34  White - English/Welsh/Scottish/Northern Irish/...   \n",
       "33        Male    18-24  White - English/Welsh/Scottish/Northern Irish/...   \n",
       "36        Male      NaN  White - English/Welsh/Scottish/Northern Irish/...   \n",
       "40        Male    18-24  White - English/Welsh/Scottish/Northern Irish/...   \n",
       "...        ...      ...                                                ...   \n",
       "169384    Male    25-34  White - English/Welsh/Scottish/Northern Irish/...   \n",
       "169387    Male    18-24  White - English/Welsh/Scottish/Northern Irish/...   \n",
       "169388  Female  over 34  White - English/Welsh/Scottish/Northern Irish/...   \n",
       "169390    Male  over 34  White - English/Welsh/Scottish/Northern Irish/...   \n",
       "169403    Male    18-24  White - English/Welsh/Scottish/Northern Irish/...   \n",
       "\n",
       "       Officer-ethnicity                    Object-of-search  \\\n",
       "22                 Black                    Controlled drugs   \n",
       "24                 White  Evidence of offences under the Act   \n",
       "33                 White                        Stolen goods   \n",
       "36                 White                    Controlled drugs   \n",
       "40                 White                    Controlled drugs   \n",
       "...                  ...                                 ...   \n",
       "169384             White                    Controlled drugs   \n",
       "169387             White                    Controlled drugs   \n",
       "169388             White                        Stolen goods   \n",
       "169390             White                        Stolen goods   \n",
       "169403             White                    Controlled drugs   \n",
       "\n",
       "                             Outcome  \n",
       "22              Community resolution  \n",
       "24                            Arrest  \n",
       "33      A no further action disposal  \n",
       "36      A no further action disposal  \n",
       "40      A no further action disposal  \n",
       "...                              ...  \n",
       "169384  A no further action disposal  \n",
       "169387  A no further action disposal  \n",
       "169388  A no further action disposal  \n",
       "169390  A no further action disposal  \n",
       "169403  A no further action disposal  \n",
       "\n",
       "[30536 rows x 6 columns]"
      ]
     },
     "execution_count": 40,
     "metadata": {},
     "output_type": "execute_result"
    }
   ],
   "source": [
    "df1 = df[df[\"Suspect-ethnicity\"] == \"White - English/Welsh/Scottish/Northern Irish/British\"]\n",
    "df1"
   ]
  },
  {
   "cell_type": "code",
   "execution_count": 44,
   "id": "046acfb3-9f32-4271-aec6-b50e8c233ec8",
   "metadata": {},
   "outputs": [
    {
     "data": {
      "text/plain": [
       "Officer-ethnicity\n",
       "White    29764\n",
       "Black      412\n",
       "Asian      177\n",
       "Other      142\n",
       "Name: count, dtype: int64"
      ]
     },
     "execution_count": 44,
     "metadata": {},
     "output_type": "execute_result"
    }
   ],
   "source": [
    "# 29764/30536\n",
    "df1[\"Officer-ethnicity\"].value_counts()"
   ]
  },
  {
   "cell_type": "code",
   "execution_count": null,
   "id": "4368fe03-466a-473a-863e-104ba04e1770",
   "metadata": {},
   "outputs": [],
   "source": [
    "df2 = df[df[\"Suspect-ethnicity\"].str.contains[]]"
   ]
  },
  {
   "cell_type": "code",
   "execution_count": 45,
   "id": "4812ca97-30a2-4eff-af2d-6add40a3ec9f",
   "metadata": {},
   "outputs": [
    {
     "data": {
      "text/plain": [
       "array(['Other ethnic group - Not stated',\n",
       "       'White - Any other White background',\n",
       "       'Asian/Asian British - Indian',\n",
       "       'Other ethnic group - Any other ethnic group',\n",
       "       'Black/African/Caribbean/Black British - Any other Black/African/Caribbean background',\n",
       "       'Black/African/Caribbean/Black British - African',\n",
       "       'Black/African/Caribbean/Black British - Caribbean',\n",
       "       'Mixed/Multiple ethnic groups - White and Black African',\n",
       "       'White - English/Welsh/Scottish/Northern Irish/British',\n",
       "       'Asian/Asian British - Any other Asian background',\n",
       "       'Mixed/Multiple ethnic groups - Any other Mixed/Multiple ethnic background',\n",
       "       'Asian/Asian British - Bangladeshi',\n",
       "       'Asian/Asian British - Pakistani',\n",
       "       'Mixed/Multiple ethnic groups - White and Black Caribbean', nan,\n",
       "       'White - Irish', 'Mixed/Multiple ethnic groups - White and Asian',\n",
       "       'Asian/Asian British - Chinese'], dtype=object)"
      ]
     },
     "execution_count": 45,
     "metadata": {},
     "output_type": "execute_result"
    }
   ],
   "source": [
    "# Solutions (maybe)\n",
    "\n",
    "df[\"Suspect-ethnicity\"].unique()"
   ]
  },
  {
   "cell_type": "code",
   "execution_count": null,
   "id": "ea27396a-f4a3-45a7-ac81-b9a9217875e0",
   "metadata": {},
   "outputs": [],
   "source": []
  },
  {
   "cell_type": "code",
   "execution_count": null,
   "id": "f3e4b7a2-f65d-4b03-bcb3-fa75bd311dd7",
   "metadata": {},
   "outputs": [],
   "source": []
  },
  {
   "cell_type": "code",
   "execution_count": null,
   "id": "6eb9c8ee-85dd-4ff1-aca0-3ccbe96f7de0",
   "metadata": {},
   "outputs": [],
   "source": []
  },
  {
   "cell_type": "code",
   "execution_count": null,
   "id": "c98dd845-6902-47e1-8f07-5e975ed17492",
   "metadata": {},
   "outputs": [],
   "source": []
  }
 ],
 "metadata": {
  "kernelspec": {
   "display_name": "Python 3.11 (ipykernel)",
   "language": "python",
   "name": "python3"
  },
  "language_info": {
   "codemirror_mode": {
    "name": "ipython",
    "version": 3
   },
   "file_extension": ".py",
   "mimetype": "text/x-python",
   "name": "python",
   "nbconvert_exporter": "python",
   "pygments_lexer": "ipython3",
   "version": "3.11.4"
  }
 },
 "nbformat": 4,
 "nbformat_minor": 5
}
