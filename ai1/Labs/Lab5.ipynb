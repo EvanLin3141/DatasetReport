{
 "cells": [
  {
   "cell_type": "code",
   "execution_count": 54,
   "id": "34954af1-2480-4734-a5cc-bb71118f778e",
   "metadata": {},
   "outputs": [],
   "source": [
    "import pandas as pd\n",
    "import numpy as np\n",
    "\n",
    "from pandas.plotting import scatter_matrix\n",
    "from seaborn import scatterplot, heatmap\n",
    "\n",
    "from sklearn.model_selection import train_test_split\n",
    "\n",
    "from sklearn.compose import ColumnTransformer\n",
    "from sklearn.pipeline import Pipeline\n",
    "\n",
    "from sklearn.impute import SimpleImputer\n",
    "from sklearn.preprocessing import StandardScaler\n",
    "from sklearn.preprocessing import MinMaxScaler\n",
    "from sklearn.preprocessing import RobustScaler\n",
    "\n",
    "from sklearn.preprocessing import OneHotEncoder\n",
    "\n",
    "from sklearn.base import BaseEstimator, TransformerMixin\n",
    "\n",
    "from sklearn.linear_model import Ridge\n",
    "from sklearn.neighbors import KNeighborsRegressor\n",
    "\n",
    "from sklearn.model_selection import GridSearchCV\n",
    "from sklearn.model_selection import cross_validate\n",
    "\n",
    "from sklearn.metrics import mean_absolute_error\n",
    "\n",
    "from joblib import dump\n",
    "\n",
    "import os\n",
    "if 'google.colab' in str(get_ipython()):\n",
    "  from google.colab import drive\n",
    "  drive.mount('/content/drive')\n",
    "  base_dir = \"./drive/My Drive/Colab Notebooks/\" # You may need to change this, depending on where your notebooks are on Google Drive\n",
    "else:\n",
    "  base_dir = \".\" "
   ]
  },
  {
   "cell_type": "code",
   "execution_count": 55,
   "id": "6080f4e6-11a2-4d09-83b9-45ccb10cfc14",
   "metadata": {},
   "outputs": [],
   "source": [
    "df = pd.read_csv(\"../datasets/dataset_alcohol.csv\")\n",
    "\n",
    "df = df.sample(frac=1, random_state=2)\n",
    "df.reset_index(drop=True, inplace=True)"
   ]
  },
  {
   "cell_type": "code",
   "execution_count": 56,
   "id": "787de06e-2d3d-495f-90ae-7f356677cd99",
   "metadata": {},
   "outputs": [
    {
     "data": {
      "text/plain": [
       "(76, 9)"
      ]
     },
     "execution_count": 56,
     "metadata": {},
     "output_type": "execute_result"
    }
   ],
   "source": [
    "df.shape"
   ]
  },
  {
   "cell_type": "code",
   "execution_count": 57,
   "id": "29e22e2b-cc41-4427-82d0-77fc87839bab",
   "metadata": {},
   "outputs": [
    {
     "data": {
      "text/plain": [
       "Index(['age_yrs', 'height_cm', 'weight_kg', 'duration_mins', 'elapsed_mins',\n",
       "       'sex', 'last_meal', 'units', 'over_limit'],\n",
       "      dtype='object')"
      ]
     },
     "execution_count": 57,
     "metadata": {},
     "output_type": "execute_result"
    }
   ],
   "source": [
    "df.columns"
   ]
  },
  {
   "cell_type": "code",
   "execution_count": 58,
   "id": "ce6f6d4d-9a90-44ee-ac1a-908ac468104b",
   "metadata": {},
   "outputs": [],
   "source": [
    "# Explority Datagram Analysis\n",
    "\n",
    "# Model Selection"
   ]
  },
  {
   "cell_type": "code",
   "execution_count": 59,
   "id": "a19c8419-ce79-4be9-b3a7-487ca84c3be3",
   "metadata": {},
   "outputs": [
    {
     "data": {
      "text/html": [
       "<div>\n",
       "<style scoped>\n",
       "    .dataframe tbody tr th:only-of-type {\n",
       "        vertical-align: middle;\n",
       "    }\n",
       "\n",
       "    .dataframe tbody tr th {\n",
       "        vertical-align: top;\n",
       "    }\n",
       "\n",
       "    .dataframe thead th {\n",
       "        text-align: right;\n",
       "    }\n",
       "</style>\n",
       "<table border=\"1\" class=\"dataframe\">\n",
       "  <thead>\n",
       "    <tr style=\"text-align: right;\">\n",
       "      <th></th>\n",
       "      <th>age_yrs</th>\n",
       "      <th>height_cm</th>\n",
       "      <th>weight_kg</th>\n",
       "      <th>duration_mins</th>\n",
       "      <th>elapsed_mins</th>\n",
       "      <th>sex</th>\n",
       "      <th>last_meal</th>\n",
       "      <th>units</th>\n",
       "      <th>over_limit</th>\n",
       "    </tr>\n",
       "  </thead>\n",
       "  <tbody>\n",
       "    <tr>\n",
       "      <th>count</th>\n",
       "      <td>76.000000</td>\n",
       "      <td>76.000000</td>\n",
       "      <td>76.000000</td>\n",
       "      <td>76</td>\n",
       "      <td>76</td>\n",
       "      <td>76</td>\n",
       "      <td>65</td>\n",
       "      <td>76.000000</td>\n",
       "      <td>76</td>\n",
       "    </tr>\n",
       "    <tr>\n",
       "      <th>unique</th>\n",
       "      <td>NaN</td>\n",
       "      <td>NaN</td>\n",
       "      <td>NaN</td>\n",
       "      <td>16</td>\n",
       "      <td>9</td>\n",
       "      <td>2</td>\n",
       "      <td>4</td>\n",
       "      <td>NaN</td>\n",
       "      <td>2</td>\n",
       "    </tr>\n",
       "    <tr>\n",
       "      <th>top</th>\n",
       "      <td>NaN</td>\n",
       "      <td>NaN</td>\n",
       "      <td>NaN</td>\n",
       "      <td>120</td>\n",
       "      <td>10</td>\n",
       "      <td>Male</td>\n",
       "      <td>Full</td>\n",
       "      <td>NaN</td>\n",
       "      <td>No</td>\n",
       "    </tr>\n",
       "    <tr>\n",
       "      <th>freq</th>\n",
       "      <td>NaN</td>\n",
       "      <td>NaN</td>\n",
       "      <td>NaN</td>\n",
       "      <td>15</td>\n",
       "      <td>61</td>\n",
       "      <td>60</td>\n",
       "      <td>33</td>\n",
       "      <td>NaN</td>\n",
       "      <td>46</td>\n",
       "    </tr>\n",
       "    <tr>\n",
       "      <th>mean</th>\n",
       "      <td>22.657895</td>\n",
       "      <td>176.644737</td>\n",
       "      <td>71.486842</td>\n",
       "      <td>NaN</td>\n",
       "      <td>NaN</td>\n",
       "      <td>NaN</td>\n",
       "      <td>NaN</td>\n",
       "      <td>8.632895</td>\n",
       "      <td>NaN</td>\n",
       "    </tr>\n",
       "    <tr>\n",
       "      <th>std</th>\n",
       "      <td>5.627439</td>\n",
       "      <td>8.453329</td>\n",
       "      <td>11.474602</td>\n",
       "      <td>NaN</td>\n",
       "      <td>NaN</td>\n",
       "      <td>NaN</td>\n",
       "      <td>NaN</td>\n",
       "      <td>5.775567</td>\n",
       "      <td>NaN</td>\n",
       "    </tr>\n",
       "    <tr>\n",
       "      <th>min</th>\n",
       "      <td>18.000000</td>\n",
       "      <td>157.000000</td>\n",
       "      <td>47.000000</td>\n",
       "      <td>NaN</td>\n",
       "      <td>NaN</td>\n",
       "      <td>NaN</td>\n",
       "      <td>NaN</td>\n",
       "      <td>0.000000</td>\n",
       "      <td>NaN</td>\n",
       "    </tr>\n",
       "    <tr>\n",
       "      <th>25%</th>\n",
       "      <td>19.000000</td>\n",
       "      <td>172.000000</td>\n",
       "      <td>63.000000</td>\n",
       "      <td>NaN</td>\n",
       "      <td>NaN</td>\n",
       "      <td>NaN</td>\n",
       "      <td>NaN</td>\n",
       "      <td>4.275000</td>\n",
       "      <td>NaN</td>\n",
       "    </tr>\n",
       "    <tr>\n",
       "      <th>50%</th>\n",
       "      <td>21.000000</td>\n",
       "      <td>177.000000</td>\n",
       "      <td>72.000000</td>\n",
       "      <td>NaN</td>\n",
       "      <td>NaN</td>\n",
       "      <td>NaN</td>\n",
       "      <td>NaN</td>\n",
       "      <td>8.400000</td>\n",
       "      <td>NaN</td>\n",
       "    </tr>\n",
       "    <tr>\n",
       "      <th>75%</th>\n",
       "      <td>23.000000</td>\n",
       "      <td>182.000000</td>\n",
       "      <td>79.000000</td>\n",
       "      <td>NaN</td>\n",
       "      <td>NaN</td>\n",
       "      <td>NaN</td>\n",
       "      <td>NaN</td>\n",
       "      <td>12.100000</td>\n",
       "      <td>NaN</td>\n",
       "    </tr>\n",
       "    <tr>\n",
       "      <th>max</th>\n",
       "      <td>45.000000</td>\n",
       "      <td>200.000000</td>\n",
       "      <td>101.000000</td>\n",
       "      <td>NaN</td>\n",
       "      <td>NaN</td>\n",
       "      <td>NaN</td>\n",
       "      <td>NaN</td>\n",
       "      <td>31.200000</td>\n",
       "      <td>NaN</td>\n",
       "    </tr>\n",
       "  </tbody>\n",
       "</table>\n",
       "</div>"
      ],
      "text/plain": [
       "          age_yrs   height_cm   weight_kg duration_mins elapsed_mins   sex  \\\n",
       "count   76.000000   76.000000   76.000000            76           76    76   \n",
       "unique        NaN         NaN         NaN            16            9     2   \n",
       "top           NaN         NaN         NaN           120           10  Male   \n",
       "freq          NaN         NaN         NaN            15           61    60   \n",
       "mean    22.657895  176.644737   71.486842           NaN          NaN   NaN   \n",
       "std      5.627439    8.453329   11.474602           NaN          NaN   NaN   \n",
       "min     18.000000  157.000000   47.000000           NaN          NaN   NaN   \n",
       "25%     19.000000  172.000000   63.000000           NaN          NaN   NaN   \n",
       "50%     21.000000  177.000000   72.000000           NaN          NaN   NaN   \n",
       "75%     23.000000  182.000000   79.000000           NaN          NaN   NaN   \n",
       "max     45.000000  200.000000  101.000000           NaN          NaN   NaN   \n",
       "\n",
       "       last_meal      units over_limit  \n",
       "count         65  76.000000         76  \n",
       "unique         4        NaN          2  \n",
       "top         Full        NaN         No  \n",
       "freq          33        NaN         46  \n",
       "mean         NaN   8.632895        NaN  \n",
       "std          NaN   5.775567        NaN  \n",
       "min          NaN   0.000000        NaN  \n",
       "25%          NaN   4.275000        NaN  \n",
       "50%          NaN   8.400000        NaN  \n",
       "75%          NaN  12.100000        NaN  \n",
       "max          NaN  31.200000        NaN  "
      ]
     },
     "execution_count": 59,
     "metadata": {},
     "output_type": "execute_result"
    }
   ],
   "source": [
    "df.describe(include=\"all\")"
   ]
  },
  {
   "cell_type": "code",
   "execution_count": 60,
   "id": "ba35eac3-a7b6-41e9-9a3f-51fc66f96661",
   "metadata": {},
   "outputs": [
    {
     "data": {
      "text/plain": [
       "age_yrs            int64\n",
       "height_cm          int64\n",
       "weight_kg          int64\n",
       "duration_mins     object\n",
       "elapsed_mins      object\n",
       "sex               object\n",
       "last_meal         object\n",
       "units            float64\n",
       "over_limit        object\n",
       "dtype: object"
      ]
     },
     "execution_count": 60,
     "metadata": {},
     "output_type": "execute_result"
    }
   ],
   "source": [
    "# The datatypes\n",
    "df.dtypes"
   ]
  },
  {
   "cell_type": "code",
   "execution_count": 61,
   "id": "404c703c-92c9-409c-8880-d576f5704ab8",
   "metadata": {},
   "outputs": [
    {
     "data": {
      "image/png": "[encoded data removed]",
      "text/plain": [
       "<Figure size 640x480 with 1 Axes>"
      ]
     },
     "metadata": {},
     "output_type": "display_data"
    }
   ],
   "source": [
    "plot = scatterplot(x=\"units\", y=\"over_limit\", data=df)"
   ]
  },
  {
   "cell_type": "code",
   "execution_count": 62,
   "id": "7dc8e55e-19d3-4afe-8ba0-348360c35067",
   "metadata": {},
   "outputs": [],
   "source": [
    "features = ['age_yrs', 'height_cm', 'weight_kg', 'duration_mins', 'elapsed_mins',\n",
    "       'sex', 'last_meal', 'units', 'over_limit']\n",
    "nominal_features = ['sex', 'last_meal']\n",
    "numeric_f = ['age_yrs', 'height_cm', 'weight_kg', 'duration_mins', 'elapsed_mins',\n",
    "       'sex', 'last_meal', 'units']"
   ]
  },
  {
   "cell_type": "code",
   "execution_count": 63,
   "id": "4e207355-7643-4f31-9804-ecfe3d7989c6",
   "metadata": {},
   "outputs": [
    {
     "name": "stdout",
     "output_type": "stream",
     "text": [
      "sex ['Male' 'Female']\n",
      "last_meal ['Snack' 'Lunch' 'Full' nan '?']\n"
     ]
    }
   ],
   "source": [
    "for feature in nominal_features:\n",
    "    print(feature, df[feature].unique())"
   ]
  },
  {
   "cell_type": "code",
   "execution_count": 64,
   "id": "6f0ead28-0816-4e7d-bae1-d7db93423de2",
   "metadata": {},
   "outputs": [
    {
     "name": "stdout",
     "output_type": "stream",
     "text": [
      "age_yrs [21 34 23 26 19 24 18 20 36 22 25 40 38 39 29 45 28]\n",
      "height_cm [185 187 200 177 175 162 182 180 170 172 165 157 160 167]\n",
      "weight_kg [ 85  95 101  76  69  57  82  63  79  66  73  88  84  71  75  72  47  60\n",
      "  55  51  48  52  53  64  80]\n",
      "duration_mins ['315' '240' '60' '30' '180' '90' '120' '325' '330' '?' '270' '150' '360'\n",
      " '300' '5' '435']\n",
      "elapsed_mins ['10' '5' '15' '180' '120' '40' '?' '30' '60']\n",
      "sex ['Male' 'Female']\n",
      "last_meal ['Snack' 'Lunch' 'Full' nan '?']\n",
      "units [19.7 10.2  4.8  2.9  2.6 15.6  3.   5.  13.6 20.8 10.4  2.4  5.2 16.8\n",
      " 16.1  7.2 10.   0.  12.6 13.2  9.   5.1  7.8  1.3 16.9  4.5  3.6 11.4\n",
      " 12.   9.6  9.1 10.1 14.4  9.8  9.5  4.6 13.  16.6  1.2 15.8 12.4 31.2\n",
      " 11.  15.   5.9]\n"
     ]
    }
   ],
   "source": [
    "for feature in numeric_f:\n",
    "    print(feature, df[feature].unique())"
   ]
  },
  {
   "cell_type": "code",
   "execution_count": 65,
   "id": "d8bbde5e-ec8d-4a14-8a47-e43c6911db98",
   "metadata": {},
   "outputs": [
    {
     "name": "stdout",
     "output_type": "stream",
     "text": [
      "sex ['Male' 'Female']\n",
      "last_meal ['Snack' 'Lunch' 'Full' nan]\n"
     ]
    }
   ],
   "source": [
    "df = (df[df[\"last_meal\"] != \"?\"]).copy()\n",
    "df.reset_index(drop=True, inplace=True)\n",
    "\n",
    "\n",
    "for feature in nominal_features:\n",
    "    print(feature, df[feature].unique())"
   ]
  },
  {
   "cell_type": "code",
   "execution_count": 66,
   "id": "3fbffdd2-c0ce-4160-ad40-730aeee9599c",
   "metadata": {},
   "outputs": [
    {
     "data": {
      "text/plain": [
       "(75, 9)"
      ]
     },
     "execution_count": 66,
     "metadata": {},
     "output_type": "execute_result"
    }
   ],
   "source": [
    "# Check the invalid data was filtered out\n",
    "df.shape"
   ]
  },
  {
   "cell_type": "code",
   "execution_count": 70,
   "id": "53897c63-2c64-455e-98e1-0ea3deeb2740",
   "metadata": {},
   "outputs": [],
   "source": [
    "df = (df[df[\"duration_mins\"] != \"?\"]).copy()\n",
    "df.reset_index(drop=True, inplace=True)"
   ]
  },
  {
   "cell_type": "code",
   "execution_count": 72,
   "id": "3ef174ac-8ea7-496a-85c1-24febb9bb524",
   "metadata": {},
   "outputs": [],
   "source": [
    "df = (df[df[\"elapsed_mins\"] != \"?\"]).copy()\n",
    "df.reset_index(drop=True, inplace=True)"
   ]
  },
  {
   "cell_type": "code",
   "execution_count": 73,
   "id": "1ece483e-8d3f-4c63-8192-3620849902ea",
   "metadata": {},
   "outputs": [
    {
     "data": {
      "text/plain": [
       "(73, 9)"
      ]
     },
     "execution_count": 73,
     "metadata": {},
     "output_type": "execute_result"
    }
   ],
   "source": [
    "df.shape"
   ]
  },
  {
   "cell_type": "code",
   "execution_count": 74,
   "id": "e66cc475-86a8-4a0e-be18-cabf003c2868",
   "metadata": {},
   "outputs": [
    {
     "name": "stdout",
     "output_type": "stream",
     "text": [
      "age_yrs [21 34 23 26 19 24 18 20 36 22 25 38 39 29 45 28]\n",
      "height_cm [185 187 200 177 175 162 182 180 172 170 165 157 160 167]\n",
      "weight_kg [ 85  95 101  76  69  57  82  63  79  66  73  88  84  71  72  47  60  55\n",
      "  51  48  52  53  75  64  80]\n",
      "duration_mins ['315' '240' '60' '30' '180' '90' '120' '325' '330' '270' '150' '360'\n",
      " '300' '5' '435']\n",
      "elapsed_mins ['10' '5' '15' '180' '120' '40' '60' '30']\n",
      "sex ['Male' 'Female']\n",
      "last_meal ['Snack' 'Lunch' 'Full' nan]\n",
      "units [19.7 10.2  4.8  2.9  2.6 15.6  3.   5.  13.6 20.8 10.4  2.4  5.2 16.8\n",
      " 16.1  7.2 10.  12.6 13.2  9.   5.1  7.8  1.3 16.9  3.6 11.4 12.   9.6\n",
      "  9.1 10.1 14.4  9.8  9.5  4.6 13.  16.6  1.2 15.8 12.4 31.2 11.  15.\n",
      "  5.9]\n"
     ]
    }
   ],
   "source": [
    "for feature in numeric_f:\n",
    "    print(feature, df[feature].unique())"
   ]
  },
  {
   "cell_type": "code",
   "execution_count": 75,
   "id": "1285da11-853b-40bd-8707-73545271500a",
   "metadata": {},
   "outputs": [
    {
     "data": {
      "text/plain": [
       "<bound method DataFrame.info of     age_yrs  height_cm  weight_kg duration_mins elapsed_mins     sex  \\\n",
       "0        21        185         85           315           10    Male   \n",
       "1        34        187         95           240            5    Male   \n",
       "2        23        200        101            60           10    Male   \n",
       "3        26        177         76            60           10    Male   \n",
       "4        19        175         69            30           10    Male   \n",
       "..      ...        ...        ...           ...          ...     ...   \n",
       "68       20        170         63           270           10  Female   \n",
       "69       28        185         88           120           10    Male   \n",
       "70       22        177         82           300           10    Male   \n",
       "71       21        177         88            90           10    Male   \n",
       "72       19        165         60            60           10  Female   \n",
       "\n",
       "   last_meal  units over_limit  \n",
       "0      Snack   19.7        Yes  \n",
       "1      Lunch   10.2         No  \n",
       "2      Snack    4.8         No  \n",
       "3       Full    2.9         No  \n",
       "4       Full    2.6         No  \n",
       "..       ...    ...        ...  \n",
       "68     Lunch    5.9         No  \n",
       "69      Full    5.2         No  \n",
       "70     Snack   15.0        Yes  \n",
       "71      Full    5.2         No  \n",
       "72     Lunch    1.3         No  \n",
       "\n",
       "[73 rows x 9 columns]>"
      ]
     },
     "execution_count": 75,
     "metadata": {},
     "output_type": "execute_result"
    }
   ],
   "source": [
    "df.info"
   ]
  },
  {
   "cell_type": "code",
   "execution_count": 77,
   "id": "b9735a3e-b4d1-4171-a11d-776bd0b32402",
   "metadata": {},
   "outputs": [
    {
     "data": {
      "text/html": [
       "<div>\n",
       "<style scoped>\n",
       "    .dataframe tbody tr th:only-of-type {\n",
       "        vertical-align: middle;\n",
       "    }\n",
       "\n",
       "    .dataframe tbody tr th {\n",
       "        vertical-align: top;\n",
       "    }\n",
       "\n",
       "    .dataframe thead th {\n",
       "        text-align: right;\n",
       "    }\n",
       "</style>\n",
       "<table border=\"1\" class=\"dataframe\">\n",
       "  <thead>\n",
       "    <tr style=\"text-align: right;\">\n",
       "      <th></th>\n",
       "      <th>age_yrs</th>\n",
       "      <th>height_cm</th>\n",
       "      <th>weight_kg</th>\n",
       "      <th>duration_mins</th>\n",
       "      <th>elapsed_mins</th>\n",
       "      <th>sex</th>\n",
       "      <th>last_meal</th>\n",
       "      <th>units</th>\n",
       "      <th>over_limit</th>\n",
       "    </tr>\n",
       "  </thead>\n",
       "  <tbody>\n",
       "    <tr>\n",
       "      <th>0</th>\n",
       "      <td>21</td>\n",
       "      <td>185</td>\n",
       "      <td>85</td>\n",
       "      <td>315</td>\n",
       "      <td>10</td>\n",
       "      <td>Male</td>\n",
       "      <td>Snack</td>\n",
       "      <td>19.7</td>\n",
       "      <td>Yes</td>\n",
       "    </tr>\n",
       "    <tr>\n",
       "      <th>1</th>\n",
       "      <td>34</td>\n",
       "      <td>187</td>\n",
       "      <td>95</td>\n",
       "      <td>240</td>\n",
       "      <td>5</td>\n",
       "      <td>Male</td>\n",
       "      <td>Lunch</td>\n",
       "      <td>10.2</td>\n",
       "      <td>No</td>\n",
       "    </tr>\n",
       "    <tr>\n",
       "      <th>2</th>\n",
       "      <td>23</td>\n",
       "      <td>200</td>\n",
       "      <td>101</td>\n",
       "      <td>60</td>\n",
       "      <td>10</td>\n",
       "      <td>Male</td>\n",
       "      <td>Snack</td>\n",
       "      <td>4.8</td>\n",
       "      <td>No</td>\n",
       "    </tr>\n",
       "    <tr>\n",
       "      <th>3</th>\n",
       "      <td>26</td>\n",
       "      <td>177</td>\n",
       "      <td>76</td>\n",
       "      <td>60</td>\n",
       "      <td>10</td>\n",
       "      <td>Male</td>\n",
       "      <td>Full</td>\n",
       "      <td>2.9</td>\n",
       "      <td>No</td>\n",
       "    </tr>\n",
       "    <tr>\n",
       "      <th>4</th>\n",
       "      <td>19</td>\n",
       "      <td>175</td>\n",
       "      <td>69</td>\n",
       "      <td>30</td>\n",
       "      <td>10</td>\n",
       "      <td>Male</td>\n",
       "      <td>Full</td>\n",
       "      <td>2.6</td>\n",
       "      <td>No</td>\n",
       "    </tr>\n",
       "    <tr>\n",
       "      <th>...</th>\n",
       "      <td>...</td>\n",
       "      <td>...</td>\n",
       "      <td>...</td>\n",
       "      <td>...</td>\n",
       "      <td>...</td>\n",
       "      <td>...</td>\n",
       "      <td>...</td>\n",
       "      <td>...</td>\n",
       "      <td>...</td>\n",
       "    </tr>\n",
       "    <tr>\n",
       "      <th>68</th>\n",
       "      <td>20</td>\n",
       "      <td>170</td>\n",
       "      <td>63</td>\n",
       "      <td>270</td>\n",
       "      <td>10</td>\n",
       "      <td>Female</td>\n",
       "      <td>Lunch</td>\n",
       "      <td>5.9</td>\n",
       "      <td>No</td>\n",
       "    </tr>\n",
       "    <tr>\n",
       "      <th>69</th>\n",
       "      <td>28</td>\n",
       "      <td>185</td>\n",
       "      <td>88</td>\n",
       "      <td>120</td>\n",
       "      <td>10</td>\n",
       "      <td>Male</td>\n",
       "      <td>Full</td>\n",
       "      <td>5.2</td>\n",
       "      <td>No</td>\n",
       "    </tr>\n",
       "    <tr>\n",
       "      <th>70</th>\n",
       "      <td>22</td>\n",
       "      <td>177</td>\n",
       "      <td>82</td>\n",
       "      <td>300</td>\n",
       "      <td>10</td>\n",
       "      <td>Male</td>\n",
       "      <td>Snack</td>\n",
       "      <td>15.0</td>\n",
       "      <td>Yes</td>\n",
       "    </tr>\n",
       "    <tr>\n",
       "      <th>71</th>\n",
       "      <td>21</td>\n",
       "      <td>177</td>\n",
       "      <td>88</td>\n",
       "      <td>90</td>\n",
       "      <td>10</td>\n",
       "      <td>Male</td>\n",
       "      <td>Full</td>\n",
       "      <td>5.2</td>\n",
       "      <td>No</td>\n",
       "    </tr>\n",
       "    <tr>\n",
       "      <th>72</th>\n",
       "      <td>19</td>\n",
       "      <td>165</td>\n",
       "      <td>60</td>\n",
       "      <td>60</td>\n",
       "      <td>10</td>\n",
       "      <td>Female</td>\n",
       "      <td>Lunch</td>\n",
       "      <td>1.3</td>\n",
       "      <td>No</td>\n",
       "    </tr>\n",
       "  </tbody>\n",
       "</table>\n",
       "<p>73 rows × 9 columns</p>\n",
       "</div>"
      ],
      "text/plain": [
       "    age_yrs  height_cm  weight_kg duration_mins elapsed_mins     sex  \\\n",
       "0        21        185         85           315           10    Male   \n",
       "1        34        187         95           240            5    Male   \n",
       "2        23        200        101            60           10    Male   \n",
       "3        26        177         76            60           10    Male   \n",
       "4        19        175         69            30           10    Male   \n",
       "..      ...        ...        ...           ...          ...     ...   \n",
       "68       20        170         63           270           10  Female   \n",
       "69       28        185         88           120           10    Male   \n",
       "70       22        177         82           300           10    Male   \n",
       "71       21        177         88            90           10    Male   \n",
       "72       19        165         60            60           10  Female   \n",
       "\n",
       "   last_meal  units over_limit  \n",
       "0      Snack   19.7        Yes  \n",
       "1      Lunch   10.2         No  \n",
       "2      Snack    4.8         No  \n",
       "3       Full    2.9         No  \n",
       "4       Full    2.6         No  \n",
       "..       ...    ...        ...  \n",
       "68     Lunch    5.9         No  \n",
       "69      Full    5.2         No  \n",
       "70     Snack   15.0        Yes  \n",
       "71      Full    5.2         No  \n",
       "72     Lunch    1.3         No  \n",
       "\n",
       "[73 rows x 9 columns]"
      ]
     },
     "execution_count": 77,
     "metadata": {},
     "output_type": "execute_result"
    }
   ],
   "source": [
    "df"
   ]
  }
 ],
 "metadata": {
  "kernelspec": {
   "display_name": "Python 3.11 (ipykernel)",
   "language": "python",
   "name": "python3"
  },
  "language_info": {
   "codemirror_mode": {
    "name": "ipython",
    "version": 3
   },
   "file_extension": ".py",
   "mimetype": "text/x-python",
   "name": "python",
   "nbconvert_exporter": "python",
   "pygments_lexer": "ipython3",
   "version": "3.11.4"
  }
 },
 "nbformat": 4,
 "nbformat_minor": 5
}
